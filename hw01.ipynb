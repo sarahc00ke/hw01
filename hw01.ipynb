{
  "cells": [
    {
      "cell_type": "markdown",
      "metadata": {},
      "source": [
        "# BEE 4750 Homework 1: Introduction to Using Julia\n",
        "\n",
        "**Name**:\n",
        "\n",
        "**ID**:\n",
        "\n",
        "> **Due Date**\n",
        ">\n",
        "> Thursday, 9/5/23, 9:00pm\n",
        "\n",
        "## Overview\n",
        "\n",
        "### Instructions\n",
        "\n",
        "-   Problem 1 consist of a series of code snippets for you to interpret\n",
        "    and debug. You will be asked to identify relevant error(s) and fix\n",
        "    the code.\n",
        "-   Problem 2 gives you some code that works as intended; your goal is\n",
        "    to identify the code’s purpose by following its logic.\n",
        "-   Problem 3 asks you to write code to generate a random vector and\n",
        "    subtract off its mean, using a Julia syntax called broadcasting.\n",
        "-   Problem 4 asks you to convert a verbal description of a wastewater\n",
        "    treatment system into a Julia function, and then to use that\n",
        "    function to explore the impact of different wastewater allocation\n",
        "    strategies.\n",
        "\n",
        "### Load Environment\n",
        "\n",
        "The following code loads the environment and makes sure all needed\n",
        "packages are installed. This should be at the start of most Julia\n",
        "scripts."
      ],
      "id": "43f38ded-6af3-4f97-afb0-8786fb67bf86"
    },
    {
      "cell_type": "code",
      "execution_count": 1,
      "metadata": {},
      "outputs": [],
      "source": [
        "import Pkg\n",
        "Pkg.activate(@__DIR__)\n",
        "Pkg.instantiate()"
      ],
      "id": "2"
    },
    {
      "cell_type": "markdown",
      "metadata": {},
      "source": [
        "Standard Julia practice is to load all needed packages at the top of a\n",
        "file. If you need to load any additional packages in any assignments\n",
        "beyond those which are loaded by default, feel free to add a `using`\n",
        "statement, though [you may need to install the\n",
        "package](https://viveks.me/environmental-systems-analysis/tutorials/julia-basics.html#package-management)."
      ],
      "id": "c03868f8-501b-4e79-8d9a-b4e9a42da60b"
    },
    {
      "cell_type": "code",
      "execution_count": 1,
      "metadata": {},
      "outputs": [],
      "source": [
        "using Random\n",
        "using Plots\n",
        "using GraphRecipes\n",
        "using LaTeXStrings"
      ],
      "id": "4"
    },
    {
      "cell_type": "code",
      "execution_count": 1,
      "metadata": {},
      "outputs": [
        {
          "output_type": "display_data",
          "metadata": {},
          "data": {
            "text/plain": [
              "TaskLocalRNG()"
            ]
          }
        }
      ],
      "source": [
        "# this sets a random seed, which ensures reproducibility of random number generation. You should always set a seed when working with random numbers.\n",
        "Random.seed!(1)"
      ],
      "id": "6"
    },
    {
      "cell_type": "markdown",
      "metadata": {},
      "source": [
        "## Problems (Total: 50 Points)\n",
        "\n",
        "### Problem 1 (15 points)\n",
        "\n",
        "The following subproblems all involve code snippets that require\n",
        "debugging.\n",
        "\n",
        "**For each of them**:\n",
        "\n",
        "-   identify and describe the logic and/or syntax error;\n",
        "-   write a fixed version of the function;\n",
        "-   use your fixed function to solve the problem.\n",
        "\n",
        "#### Problem 1.1\n",
        "\n",
        "You’ve been tasked with writing code to identify the minimum value in an\n",
        "array. You cannot use a predefined function. Your colleague suggested\n",
        "the function below, but it does not return the minimum value."
      ],
      "id": "66ebae44-ca73-4695-a205-2b526b2825e0"
    },
    {
      "cell_type": "code",
      "execution_count": 1,
      "metadata": {},
      "outputs": [
        {
          "output_type": "stream",
          "name": "stdout",
          "text": [
            "minimum(array_values) = 0"
          ]
        }
      ],
      "source": [
        "function minimum(array)\n",
        "    min_value = 0\n",
        "    for i in 1:length(array)\n",
        "        if array[i] < min_value\n",
        "            min_value = array[i]\n",
        "        end\n",
        "    end\n",
        "    return min_value\n",
        "end\n",
        "\n",
        "array_values = [89, 90, 95, 100, 100, 78, 99, 98, 100, 95]\n",
        "@show minimum(array_values);"
      ],
      "id": "8"
    },
    {
      "cell_type": "markdown",
      "metadata": {},
      "source": [
        "#### Problem 1.2\n",
        "\n",
        "Your team is trying to compute the average grade for your class, but the\n",
        "following code produces an error."
      ],
      "id": "e4fe4b1a-19ff-49a6-adc7-357c579caf4b"
    },
    {
      "cell_type": "code",
      "execution_count": 1,
      "metadata": {},
      "outputs": [],
      "source": [
        "student_grades = [89, 90, 95, 100, 100, 78, 99, 98, 100, 95]\n",
        "function class_average(grades)\n",
        "  average_grade = mean(student_grades)\n",
        "  return average_grade\n",
        "end\n",
        "\n",
        "@show average_grade;"
      ],
      "id": "10"
    },
    {
      "cell_type": "markdown",
      "metadata": {},
      "source": [
        "#### Problem 1.3\n",
        "\n",
        "Your team wants to know the expected payout of an old Italian dice game\n",
        "called *passadieci* (which was analyzed by Galileo as one of the first\n",
        "examples of a rigorous study of probability). The goal of passadieci is\n",
        "to get at least an 11 from rolling three fair, six-sided dice. Your\n",
        "strategy is to compute the average wins from 1,000 trials, but the code\n",
        "you’ve written below produces an error."
      ],
      "id": "26c04398-2b2d-4899-8674-227869a04463"
    },
    {
      "cell_type": "code",
      "execution_count": 1,
      "metadata": {},
      "outputs": [],
      "source": [
        "function passadieci()\n",
        "    # this rand() call samples 3 values from the vector [1, 6]\n",
        "    roll = rand(1:6, 3) \n",
        "    return roll\n",
        "end\n",
        "n_trials = 1_000\n",
        "outcomes = zero(n_trials)\n",
        "for i = 1:n_trials\n",
        "    outcomes[i] = (sum(passadieci()) > 11)\n",
        "end\n",
        "win_prob = sum(outcomes) / n_trials # compute average number of wins\n",
        "@show win_prob;"
      ],
      "id": "12"
    },
    {
      "cell_type": "markdown",
      "metadata": {},
      "source": [
        "### Problem 2 (5 points)\n",
        "\n",
        "You’ve been handed some code to analyze. The original coder was not very\n",
        "considerate of other potential users: the function is called\n",
        "`mystery_function` and there are no comments explaining the purpose of\n",
        "the code. It appears to take in an array and return some numbers, and\n",
        "you’ve been assured that the code works as intended."
      ],
      "id": "d19d0c6a-f5e9-48f9-bf42-44026e4337f8"
    },
    {
      "cell_type": "code",
      "execution_count": 1,
      "metadata": {},
      "outputs": [
        {
          "output_type": "stream",
          "name": "stdout",
          "text": [
            "mystery_function(list_of_values) = Any[1, 2, 3, 4]"
          ]
        }
      ],
      "source": [
        "function mystery_function(values)\n",
        "    y = []\n",
        "    for v in values\n",
        "        if !(v in y)\n",
        "            append!(y, v)\n",
        "        end\n",
        "    end\n",
        "    return y\n",
        "end\n",
        "\n",
        "list_of_values = [1, 2, 3, 4, 3, 4, 2, 1]\n",
        "@show mystery_function(list_of_values);"
      ],
      "id": "14"
    },
    {
      "cell_type": "markdown",
      "metadata": {},
      "source": [
        "**In this problem**:\n",
        "\n",
        "-   Explain the purpose of `mystery_function`.\n",
        "-   Add comments to the code, explaining why and how it works. Refer to\n",
        "    [“Best Practices for Writing Code\n",
        "    Comments”](https://stackoverflow.blog/2021/12/23/best-practices-for-writing-code-comments/),\n",
        "    and remember that bad comments can be just as bad as no comments at\n",
        "    all. You do not need to add comments to every line (in fact, this is\n",
        "    very bad practice), but you should note the *purpose* of every\n",
        "    “section” of code, and add comments explaining any code sequences\n",
        "    that you don’t immediately understand.\n",
        "-   Is there a built-in Julia function that does the same thing as\n",
        "    `mystery_function`? If so, what is it? Use it to do the same thing\n",
        "    as the code above.\n",
        "\n",
        "### Problem 3 (10 points)\n",
        "\n",
        "You’re interested in writing some code to remove the mean of a vector.\n",
        "\n",
        "**In this problem**:\n",
        "\n",
        "-   Write a function `compute_mean(v)` which sums all of the elements of\n",
        "    a vector `v` using a `for` loop and computes the mean.\n",
        "-   Make a random vector `random_vect` of length 10 using Julia’s\n",
        "    `rand()` function. Use your `compute_mean()` function to calculate\n",
        "    its mean and subtract it from `random_vect` **without a loop**\n",
        "    (using a Julia technique called *broadcasting*; feel free to consult\n",
        "    the Julia documentation and search as necessary). Check that the new\n",
        "    vector has mean zero.\n",
        "\n",
        "### Problem 4 (20 points)\n",
        "\n",
        "Cheap Plastic Products, Inc. is operating a plant that produces\n",
        "$100 \\text{m}^3\\text{/day}$ of wastewater that is discharged into\n",
        "Pristine Brook. The wastewater contains $1 \\text{kg/m}^3$ of YUK, a\n",
        "toxic substance. The US Environmental Protection Agency has imposed an\n",
        "effluent standard on the plant prohibiting discharge of more than\n",
        "$20 \\text{kg/day}$ of YUK into Pristine Brook.\n",
        "\n",
        "Cheap Plastic Products has analyzed two methods for reducing its\n",
        "discharges of YUK. Method 1 is land disposal, which costs $X_1^2/20$\n",
        "dollars per day, where $X_1$ is the amount of wastewater disposed of on\n",
        "the land ($\\text{m}^3\\text{/day}$). With this method, 20% of the YUK\n",
        "applied to the land will eventually drain into the stream (*i.e.*, 80%\n",
        "of the YUK is removed by the soil).\n",
        "\n",
        "Method 2 is a chemical treatment procedure which costs \\$1.50 per\n",
        "$\\text{m}^3$ of wastewater treated. The chemical treatment has an\n",
        "efficiency of $e= 1 - 0.005X_2$, where $X_2$ is the quantity of\n",
        "wastewater ($\\text{m}^3\\text{/day}$) treated. For example, if\n",
        "$X_2 = 50 \\text{m}^3\\text{/day}$, then $e = 1 - 0.005(50) = 0.75$, so\n",
        "that 75% of the YUK is removed.\n",
        "\n",
        "Cheap Plastic Products is wondering how to allocate their wastewater\n",
        "between these three disposal and treatment methods (land disposal, and\n",
        "chemical treatment, and land disposal) to meet the effluent standard\n",
        "while keeping costs manageable.\n",
        "\n",
        "The flow of wastewater through this treatment system is shown in\n",
        "<a href=\"#fig-wastewater\" class=\"quarto-xref\">Figure 1</a>. Modify the\n",
        "edge labels (by editing the `edge_labels` dictionary in the code\n",
        "producing <a href=\"#fig-wastewater\" class=\"quarto-xref\">Figure 1</a>) to\n",
        "show how the wastewater allocations result in the final YUK discharge\n",
        "into Pristine Brook. For the `edge_label` dictionary, the tuple $(i, j)$\n",
        "corresponds to the arrow going from node $i$ to node $j$. The syntax for\n",
        "any entry is `(i, j) => \"label text\"`, and the label text can include\n",
        "mathematical notation if the string is prefaced with an `L`, as in\n",
        "`L\"x_1\"` will produce $x_1$."
      ],
      "id": "695d1eb1-8ecc-44d4-aca1-4d93e9b7ce3a"
    },
    {
      "cell_type": "code",
      "execution_count": 1,
      "metadata": {},
      "outputs": [],
      "source": [
        "A = [0 1 1 1;\n",
        "    0 0 0 1;\n",
        "    0 0 0 1;\n",
        "    0 0 0 0]\n",
        "\n",
        "names = [\"Plant\", \"Land Treatment\", \"Chem Treatment\", \"Pristine Brook\"]\n",
        "# modify this dictionary to add labels\n",
        "edge_labels = Dict((1, 2) => \"\", (1,3) => \"\", (1, 4) => \"\",(2, 4) => \"\",(3, 4) => \"\")\n",
        "shapes=[:hexagon, :rect, :rect, :hexagon]\n",
        "xpos = [0, -1.5, -0.25, 1]\n",
        "ypos = [1, 0, 0, -1]\n",
        "\n",
        "p = graphplot(A, names=names,edgelabel=edge_labels, markersize=0.15, markershapes=shapes, markercolor=:white, x=xpos, y=ypos)\n",
        "display(p)"
      ],
      "id": "cell-fig-wastewater"
    },
    {
      "cell_type": "markdown",
      "metadata": {},
      "source": [
        "**In this problem**:\n",
        "\n",
        "-   Formulate a mathematical model for the treatment cost and the amount\n",
        "    of YUK that will be discharged into Pristine Brook based on the\n",
        "    wastewater allocations. This is best done with some equations and\n",
        "    supporting text explaining the derivation. Make sure you include, as\n",
        "    additional equations in the model, any needed constraints on\n",
        "    relevant values. You can find some basics on writing mathematical\n",
        "    equations using the LaTeX typesetting syntax\n",
        "    [here](https://viveks.me/environmental-systems-analysis/tutorials/latex-notebook.qmd),\n",
        "    and a cheatsheet with LaTeX commands can be found on the course\n",
        "    website’s [Resources\n",
        "    page](https://viveks.me/environmental-systems-analysis/resources/markdown.qmd).\n",
        "\n",
        "-   Implement your systems model as a Julia function which computes the\n",
        "    resulting YUK concentration and cost for a particular treatment\n",
        "    plan. You can return multiple values from a function with a\n",
        "    [tuple](https://docs.julialang.org/en/v1/manual/functions/#Tuples-1),\n",
        "    as in:\n",
        "\n",
        "    ``` {julia}\n",
        "    function multiple_return_values(x, y)\n",
        "        return (x+y, x*y)\n",
        "    end\n",
        "\n",
        "    a, b = multiple_return_values(2, 5)\n",
        "    @show a;\n",
        "    @show b;\n",
        "    ```\n",
        "\n",
        "    To evalute the function over vectors of inputs, you can *broadcast*\n",
        "    the function by adding a decimal `.` before the function arguments\n",
        "    and accessing the resulting values by writing a *comprehension* to\n",
        "    loop over the individual outputs in the vector:\n",
        "\n",
        "    ``` {julia}\n",
        "    x = [1, 2, 3, 4, 5]\n",
        "    y = [6, 7, 8, 9, 10]\n",
        "\n",
        "    output = multiple_return_values.(x, y)\n",
        "    a = [out[1] for out in output]\n",
        "    b = [out[2] for out in output]\n",
        "    @show a;\n",
        "    @show b;\n",
        "    ```\n",
        "\n",
        "    Make sure you comment your code appropriately to make it clear what\n",
        "    is going on and why.\n",
        "\n",
        "-   Use your function to experiment with some different combinations of\n",
        "    wastewater discharge and treatment and plot the results of these\n",
        "    experiments. Can you find one that satisfies the YUK effluent\n",
        "    standard (plot this as well as a dashed red line)? What was the\n",
        "    cost? What can you say about the tradeoff between treatment cost and\n",
        "    YUK concentration? You don’t have to find an “optimal” solution to\n",
        "    this problem, but what do you think would be needed to find a better\n",
        "    solution?"
      ],
      "id": "1a301205-0470-4332-87b1-818d381ea93a"
    }
  ],
  "nbformat": 4,
  "nbformat_minor": 5,
  "metadata": {
    "kernel_info": {
      "name": "julia"
    },
    "kernelspec": {
      "name": "julia",
      "display_name": "Julia",
      "language": "julia"
    },
    "language_info": {
      "name": "julia",
      "codemirror_mode": "julia",
      "version": "1.10.3"
    }
  }
}